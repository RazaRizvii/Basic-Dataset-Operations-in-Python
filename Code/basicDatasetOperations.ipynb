{
  "nbformat": 4,
  "nbformat_minor": 0,
  "metadata": {
    "colab": {
      "provenance": []
    },
    "kernelspec": {
      "name": "python3",
      "display_name": "Python 3"
    },
    "language_info": {
      "name": "python"
    }
  },
  "cells": [
    {
      "cell_type": "code",
      "execution_count": null,
      "metadata": {
        "id": "J9pMO0sibU9y"
      },
      "outputs": [],
      "source": [
        "# Importing Necessary Libraries\n",
        "import matplotlib.pyplot as plt\n",
        "import pandas as pd\n",
        "import numpy as np\n",
        "\n",
        "# Loading data\n",
        "df = pd.read_csv(\"airline_passengers.csv\")"
      ]
    },
    {
      "cell_type": "markdown",
      "source": [
        "**Write a code that returns (a) the first few rows of the data set.**"
      ],
      "metadata": {
        "id": "hH7bRLqHvSv9"
      }
    },
    {
      "cell_type": "code",
      "source": [
        "# Printing first five rows from data\n",
        "df.head()"
      ],
      "metadata": {
        "colab": {
          "base_uri": "https://localhost:8080/",
          "height": 270
        },
        "id": "spE1vugXbqri",
        "outputId": "83b095c2-2c7d-4fd9-f3a2-0bfbff51c47b"
      },
      "execution_count": null,
      "outputs": [
        {
          "output_type": "execute_result",
          "data": {
            "text/plain": [
              "   Passenger  Gender      Customer_Type  Age   Type_of_Travel     Class  \\\n",
              "0         38  Female  disloyal_Customer   32  Business_travel  Business   \n",
              "1         40  Female  disloyal_Customer   42  Business_travel  Business   \n",
              "2         99  Female  disloyal_Customer   40  Business_travel  Business   \n",
              "3        136  Female  disloyal_Customer   27  Business_travel  Business   \n",
              "4        157  Female  disloyal_Customer   49  Business_travel  Business   \n",
              "\n",
              "   Flight_Distance  Inflight_wifi_service  Departure/Arrival_time_convenient  \\\n",
              "0              802                      4                                  4   \n",
              "1              373                      3                                  3   \n",
              "2             2419                      2                                  2   \n",
              "3             2342                      3                                  3   \n",
              "4             1416                      3                                  4   \n",
              "\n",
              "   Food_and_drink  Seat_comfort  Inflight_entertainment  Inflight_service  \\\n",
              "0               2             4                       2                 5   \n",
              "1               4             4                       4                 5   \n",
              "2               4             4                       4                 5   \n",
              "3               2             2                       2                 5   \n",
              "4               2             2                       2                 4   \n",
              "\n",
              "   Cleanliness  Departure_Delay_in_Minutes  Arrival_Delay_in_Minutes  \\\n",
              "0            2                           0                        10   \n",
              "1            4                           0                         0   \n",
              "2            4                           0                         0   \n",
              "3            2                          10                         0   \n",
              "4            2                           0                         0   \n",
              "\n",
              "              satisfaction  \n",
              "0  neutral_or_dissatisfied  \n",
              "1  neutral_or_dissatisfied  \n",
              "2  neutral_or_dissatisfied  \n",
              "3  neutral_or_dissatisfied  \n",
              "4  neutral_or_dissatisfied  "
            ],
            "text/html": [
              "\n",
              "  <div id=\"df-66a2d49b-e3b8-49c5-a8be-c6b282887ad5\">\n",
              "    <div class=\"colab-df-container\">\n",
              "      <div>\n",
              "<style scoped>\n",
              "    .dataframe tbody tr th:only-of-type {\n",
              "        vertical-align: middle;\n",
              "    }\n",
              "\n",
              "    .dataframe tbody tr th {\n",
              "        vertical-align: top;\n",
              "    }\n",
              "\n",
              "    .dataframe thead th {\n",
              "        text-align: right;\n",
              "    }\n",
              "</style>\n",
              "<table border=\"1\" class=\"dataframe\">\n",
              "  <thead>\n",
              "    <tr style=\"text-align: right;\">\n",
              "      <th></th>\n",
              "      <th>Passenger</th>\n",
              "      <th>Gender</th>\n",
              "      <th>Customer_Type</th>\n",
              "      <th>Age</th>\n",
              "      <th>Type_of_Travel</th>\n",
              "      <th>Class</th>\n",
              "      <th>Flight_Distance</th>\n",
              "      <th>Inflight_wifi_service</th>\n",
              "      <th>Departure/Arrival_time_convenient</th>\n",
              "      <th>Food_and_drink</th>\n",
              "      <th>Seat_comfort</th>\n",
              "      <th>Inflight_entertainment</th>\n",
              "      <th>Inflight_service</th>\n",
              "      <th>Cleanliness</th>\n",
              "      <th>Departure_Delay_in_Minutes</th>\n",
              "      <th>Arrival_Delay_in_Minutes</th>\n",
              "      <th>satisfaction</th>\n",
              "    </tr>\n",
              "  </thead>\n",
              "  <tbody>\n",
              "    <tr>\n",
              "      <th>0</th>\n",
              "      <td>38</td>\n",
              "      <td>Female</td>\n",
              "      <td>disloyal_Customer</td>\n",
              "      <td>32</td>\n",
              "      <td>Business_travel</td>\n",
              "      <td>Business</td>\n",
              "      <td>802</td>\n",
              "      <td>4</td>\n",
              "      <td>4</td>\n",
              "      <td>2</td>\n",
              "      <td>4</td>\n",
              "      <td>2</td>\n",
              "      <td>5</td>\n",
              "      <td>2</td>\n",
              "      <td>0</td>\n",
              "      <td>10</td>\n",
              "      <td>neutral_or_dissatisfied</td>\n",
              "    </tr>\n",
              "    <tr>\n",
              "      <th>1</th>\n",
              "      <td>40</td>\n",
              "      <td>Female</td>\n",
              "      <td>disloyal_Customer</td>\n",
              "      <td>42</td>\n",
              "      <td>Business_travel</td>\n",
              "      <td>Business</td>\n",
              "      <td>373</td>\n",
              "      <td>3</td>\n",
              "      <td>3</td>\n",
              "      <td>4</td>\n",
              "      <td>4</td>\n",
              "      <td>4</td>\n",
              "      <td>5</td>\n",
              "      <td>4</td>\n",
              "      <td>0</td>\n",
              "      <td>0</td>\n",
              "      <td>neutral_or_dissatisfied</td>\n",
              "    </tr>\n",
              "    <tr>\n",
              "      <th>2</th>\n",
              "      <td>99</td>\n",
              "      <td>Female</td>\n",
              "      <td>disloyal_Customer</td>\n",
              "      <td>40</td>\n",
              "      <td>Business_travel</td>\n",
              "      <td>Business</td>\n",
              "      <td>2419</td>\n",
              "      <td>2</td>\n",
              "      <td>2</td>\n",
              "      <td>4</td>\n",
              "      <td>4</td>\n",
              "      <td>4</td>\n",
              "      <td>5</td>\n",
              "      <td>4</td>\n",
              "      <td>0</td>\n",
              "      <td>0</td>\n",
              "      <td>neutral_or_dissatisfied</td>\n",
              "    </tr>\n",
              "    <tr>\n",
              "      <th>3</th>\n",
              "      <td>136</td>\n",
              "      <td>Female</td>\n",
              "      <td>disloyal_Customer</td>\n",
              "      <td>27</td>\n",
              "      <td>Business_travel</td>\n",
              "      <td>Business</td>\n",
              "      <td>2342</td>\n",
              "      <td>3</td>\n",
              "      <td>3</td>\n",
              "      <td>2</td>\n",
              "      <td>2</td>\n",
              "      <td>2</td>\n",
              "      <td>5</td>\n",
              "      <td>2</td>\n",
              "      <td>10</td>\n",
              "      <td>0</td>\n",
              "      <td>neutral_or_dissatisfied</td>\n",
              "    </tr>\n",
              "    <tr>\n",
              "      <th>4</th>\n",
              "      <td>157</td>\n",
              "      <td>Female</td>\n",
              "      <td>disloyal_Customer</td>\n",
              "      <td>49</td>\n",
              "      <td>Business_travel</td>\n",
              "      <td>Business</td>\n",
              "      <td>1416</td>\n",
              "      <td>3</td>\n",
              "      <td>4</td>\n",
              "      <td>2</td>\n",
              "      <td>2</td>\n",
              "      <td>2</td>\n",
              "      <td>4</td>\n",
              "      <td>2</td>\n",
              "      <td>0</td>\n",
              "      <td>0</td>\n",
              "      <td>neutral_or_dissatisfied</td>\n",
              "    </tr>\n",
              "  </tbody>\n",
              "</table>\n",
              "</div>\n",
              "      <button class=\"colab-df-convert\" onclick=\"convertToInteractive('df-66a2d49b-e3b8-49c5-a8be-c6b282887ad5')\"\n",
              "              title=\"Convert this dataframe to an interactive table.\"\n",
              "              style=\"display:none;\">\n",
              "        \n",
              "  <svg xmlns=\"http://www.w3.org/2000/svg\" height=\"24px\"viewBox=\"0 0 24 24\"\n",
              "       width=\"24px\">\n",
              "    <path d=\"M0 0h24v24H0V0z\" fill=\"none\"/>\n",
              "    <path d=\"M18.56 5.44l.94 2.06.94-2.06 2.06-.94-2.06-.94-.94-2.06-.94 2.06-2.06.94zm-11 1L8.5 8.5l.94-2.06 2.06-.94-2.06-.94L8.5 2.5l-.94 2.06-2.06.94zm10 10l.94 2.06.94-2.06 2.06-.94-2.06-.94-.94-2.06-.94 2.06-2.06.94z\"/><path d=\"M17.41 7.96l-1.37-1.37c-.4-.4-.92-.59-1.43-.59-.52 0-1.04.2-1.43.59L10.3 9.45l-7.72 7.72c-.78.78-.78 2.05 0 2.83L4 21.41c.39.39.9.59 1.41.59.51 0 1.02-.2 1.41-.59l7.78-7.78 2.81-2.81c.8-.78.8-2.07 0-2.86zM5.41 20L4 18.59l7.72-7.72 1.47 1.35L5.41 20z\"/>\n",
              "  </svg>\n",
              "      </button>\n",
              "      \n",
              "  <style>\n",
              "    .colab-df-container {\n",
              "      display:flex;\n",
              "      flex-wrap:wrap;\n",
              "      gap: 12px;\n",
              "    }\n",
              "\n",
              "    .colab-df-convert {\n",
              "      background-color: #E8F0FE;\n",
              "      border: none;\n",
              "      border-radius: 50%;\n",
              "      cursor: pointer;\n",
              "      display: none;\n",
              "      fill: #1967D2;\n",
              "      height: 32px;\n",
              "      padding: 0 0 0 0;\n",
              "      width: 32px;\n",
              "    }\n",
              "\n",
              "    .colab-df-convert:hover {\n",
              "      background-color: #E2EBFA;\n",
              "      box-shadow: 0px 1px 2px rgba(60, 64, 67, 0.3), 0px 1px 3px 1px rgba(60, 64, 67, 0.15);\n",
              "      fill: #174EA6;\n",
              "    }\n",
              "\n",
              "    [theme=dark] .colab-df-convert {\n",
              "      background-color: #3B4455;\n",
              "      fill: #D2E3FC;\n",
              "    }\n",
              "\n",
              "    [theme=dark] .colab-df-convert:hover {\n",
              "      background-color: #434B5C;\n",
              "      box-shadow: 0px 1px 3px 1px rgba(0, 0, 0, 0.15);\n",
              "      filter: drop-shadow(0px 1px 2px rgba(0, 0, 0, 0.3));\n",
              "      fill: #FFFFFF;\n",
              "    }\n",
              "  </style>\n",
              "\n",
              "      <script>\n",
              "        const buttonEl =\n",
              "          document.querySelector('#df-66a2d49b-e3b8-49c5-a8be-c6b282887ad5 button.colab-df-convert');\n",
              "        buttonEl.style.display =\n",
              "          google.colab.kernel.accessAllowed ? 'block' : 'none';\n",
              "\n",
              "        async function convertToInteractive(key) {\n",
              "          const element = document.querySelector('#df-66a2d49b-e3b8-49c5-a8be-c6b282887ad5');\n",
              "          const dataTable =\n",
              "            await google.colab.kernel.invokeFunction('convertToInteractive',\n",
              "                                                     [key], {});\n",
              "          if (!dataTable) return;\n",
              "\n",
              "          const docLinkHtml = 'Like what you see? Visit the ' +\n",
              "            '<a target=\"_blank\" href=https://colab.research.google.com/notebooks/data_table.ipynb>data table notebook</a>'\n",
              "            + ' to learn more about interactive tables.';\n",
              "          element.innerHTML = '';\n",
              "          dataTable['output_type'] = 'display_data';\n",
              "          await google.colab.output.renderOutput(dataTable, element);\n",
              "          const docLink = document.createElement('div');\n",
              "          docLink.innerHTML = docLinkHtml;\n",
              "          element.appendChild(docLink);\n",
              "        }\n",
              "      </script>\n",
              "    </div>\n",
              "  </div>\n",
              "  "
            ]
          },
          "metadata": {},
          "execution_count": 2
        }
      ]
    },
    {
      "cell_type": "markdown",
      "source": [
        "**Write a code that returns (b) Berief description of dataset.**"
      ],
      "metadata": {
        "id": "4mbsAOU1vaje"
      }
    },
    {
      "cell_type": "code",
      "source": [
        "# Using info() function to get information about data\n",
        "df.info()"
      ],
      "metadata": {
        "colab": {
          "base_uri": "https://localhost:8080/"
        },
        "id": "fa6bolPTcHDT",
        "outputId": "5c647a2c-1e33-4e9e-e6d5-b01eab281799"
      },
      "execution_count": null,
      "outputs": [
        {
          "output_type": "stream",
          "name": "stdout",
          "text": [
            "<class 'pandas.core.frame.DataFrame'>\n",
            "RangeIndex: 510 entries, 0 to 509\n",
            "Data columns (total 17 columns):\n",
            " #   Column                             Non-Null Count  Dtype \n",
            "---  ------                             --------------  ----- \n",
            " 0   Passenger                          510 non-null    int64 \n",
            " 1   Gender                             510 non-null    object\n",
            " 2   Customer_Type                      510 non-null    object\n",
            " 3   Age                                510 non-null    int64 \n",
            " 4   Type_of_Travel                     510 non-null    object\n",
            " 5   Class                              510 non-null    object\n",
            " 6   Flight_Distance                    510 non-null    int64 \n",
            " 7   Inflight_wifi_service              510 non-null    int64 \n",
            " 8   Departure/Arrival_time_convenient  510 non-null    int64 \n",
            " 9   Food_and_drink                     510 non-null    int64 \n",
            " 10  Seat_comfort                       510 non-null    int64 \n",
            " 11  Inflight_entertainment             510 non-null    int64 \n",
            " 12  Inflight_service                   510 non-null    int64 \n",
            " 13  Cleanliness                        510 non-null    int64 \n",
            " 14  Departure_Delay_in_Minutes         510 non-null    int64 \n",
            " 15  Arrival_Delay_in_Minutes           510 non-null    int64 \n",
            " 16  satisfaction                       510 non-null    object\n",
            "dtypes: int64(12), object(5)\n",
            "memory usage: 67.9+ KB\n"
          ]
        }
      ]
    },
    {
      "cell_type": "markdown",
      "source": [
        "**Displaying all columns:**"
      ],
      "metadata": {
        "id": "to9YPVkF32SR"
      }
    },
    {
      "cell_type": "code",
      "source": [
        "df.columns"
      ],
      "metadata": {
        "colab": {
          "base_uri": "https://localhost:8080/"
        },
        "id": "Hnuf6hWa31c8",
        "outputId": "8f30c445-9c6a-4676-e75b-967853cd4fa7"
      },
      "execution_count": 18,
      "outputs": [
        {
          "output_type": "execute_result",
          "data": {
            "text/plain": [
              "Index(['Passenger', 'Gender', 'Customer_Type', 'Age', 'Type_of_Travel',\n",
              "       'Class', 'Flight_Distance', 'Inflight_wifi_service',\n",
              "       'Departure/Arrival_time_convenient', 'Food_and_drink', 'Seat_comfort',\n",
              "       'Inflight_entertainment', 'Inflight_service', 'Cleanliness',\n",
              "       'Departure_Delay_in_Minutes', 'Arrival_Delay_in_Minutes',\n",
              "       'satisfaction', 'Total_Satisfacation'],\n",
              "      dtype='object')"
            ]
          },
          "metadata": {},
          "execution_count": 18
        }
      ]
    },
    {
      "cell_type": "markdown",
      "source": [
        "**Displaying last five rows of datset:**"
      ],
      "metadata": {
        "id": "SL8q2JeU3-nO"
      }
    },
    {
      "cell_type": "code",
      "source": [
        "df.tail()"
      ],
      "metadata": {
        "colab": {
          "base_uri": "https://localhost:8080/",
          "height": 270
        },
        "id": "jyRsPOPG4EJX",
        "outputId": "d766f394-84ea-413e-dc94-db40e8008a7e"
      },
      "execution_count": 20,
      "outputs": [
        {
          "output_type": "execute_result",
          "data": {
            "text/plain": [
              "     Passenger Gender   Customer_Type  Age   Type_of_Travel     Class  \\\n",
              "505        318   Male  Loyal_Customer   23  Personal_Travel  Eco_Plus   \n",
              "506        320   Male  Loyal_Customer   51  Personal_Travel  Eco_Plus   \n",
              "507        358   Male  Loyal_Customer   54  Personal_Travel  Eco_Plus   \n",
              "508        443   Male  Loyal_Customer   30  Personal_Travel  Eco_Plus   \n",
              "509        475   Male  Loyal_Customer   12  Personal_Travel  Eco_Plus   \n",
              "\n",
              "     Flight_Distance  Inflight_wifi_service  \\\n",
              "505              361                      2   \n",
              "506              927                      1   \n",
              "507              789                      1   \n",
              "508              237                      1   \n",
              "509             1892                      4   \n",
              "\n",
              "     Departure/Arrival_time_convenient  Food_and_drink  Seat_comfort  \\\n",
              "505                                  4               3             3   \n",
              "506                                  4               2             5   \n",
              "507                                  4               1             1   \n",
              "508                                  1               4             5   \n",
              "509                                  1               5             5   \n",
              "\n",
              "     Inflight_entertainment  Inflight_service  Cleanliness  \\\n",
              "505                       3                 5            3   \n",
              "506                       2                 4            2   \n",
              "507                       1                 5            1   \n",
              "508                       4                 3            4   \n",
              "509                       5                 2            5   \n",
              "\n",
              "     Departure_Delay_in_Minutes  Arrival_Delay_in_Minutes  \\\n",
              "505                           0                         0   \n",
              "506                           0                         0   \n",
              "507                           0                         0   \n",
              "508                           0                         0   \n",
              "509                          28                        45   \n",
              "\n",
              "                satisfaction  Total_Satisfacation  \n",
              "505  neutral_or_dissatisfied                   23  \n",
              "506  neutral_or_dissatisfied                   20  \n",
              "507  neutral_or_dissatisfied                   14  \n",
              "508  neutral_or_dissatisfied                   22  \n",
              "509  neutral_or_dissatisfied                   27  "
            ],
            "text/html": [
              "\n",
              "  <div id=\"df-14b4a3c7-b1f0-4f1e-8921-9f9f757a879c\">\n",
              "    <div class=\"colab-df-container\">\n",
              "      <div>\n",
              "<style scoped>\n",
              "    .dataframe tbody tr th:only-of-type {\n",
              "        vertical-align: middle;\n",
              "    }\n",
              "\n",
              "    .dataframe tbody tr th {\n",
              "        vertical-align: top;\n",
              "    }\n",
              "\n",
              "    .dataframe thead th {\n",
              "        text-align: right;\n",
              "    }\n",
              "</style>\n",
              "<table border=\"1\" class=\"dataframe\">\n",
              "  <thead>\n",
              "    <tr style=\"text-align: right;\">\n",
              "      <th></th>\n",
              "      <th>Passenger</th>\n",
              "      <th>Gender</th>\n",
              "      <th>Customer_Type</th>\n",
              "      <th>Age</th>\n",
              "      <th>Type_of_Travel</th>\n",
              "      <th>Class</th>\n",
              "      <th>Flight_Distance</th>\n",
              "      <th>Inflight_wifi_service</th>\n",
              "      <th>Departure/Arrival_time_convenient</th>\n",
              "      <th>Food_and_drink</th>\n",
              "      <th>Seat_comfort</th>\n",
              "      <th>Inflight_entertainment</th>\n",
              "      <th>Inflight_service</th>\n",
              "      <th>Cleanliness</th>\n",
              "      <th>Departure_Delay_in_Minutes</th>\n",
              "      <th>Arrival_Delay_in_Minutes</th>\n",
              "      <th>satisfaction</th>\n",
              "      <th>Total_Satisfacation</th>\n",
              "    </tr>\n",
              "  </thead>\n",
              "  <tbody>\n",
              "    <tr>\n",
              "      <th>505</th>\n",
              "      <td>318</td>\n",
              "      <td>Male</td>\n",
              "      <td>Loyal_Customer</td>\n",
              "      <td>23</td>\n",
              "      <td>Personal_Travel</td>\n",
              "      <td>Eco_Plus</td>\n",
              "      <td>361</td>\n",
              "      <td>2</td>\n",
              "      <td>4</td>\n",
              "      <td>3</td>\n",
              "      <td>3</td>\n",
              "      <td>3</td>\n",
              "      <td>5</td>\n",
              "      <td>3</td>\n",
              "      <td>0</td>\n",
              "      <td>0</td>\n",
              "      <td>neutral_or_dissatisfied</td>\n",
              "      <td>23</td>\n",
              "    </tr>\n",
              "    <tr>\n",
              "      <th>506</th>\n",
              "      <td>320</td>\n",
              "      <td>Male</td>\n",
              "      <td>Loyal_Customer</td>\n",
              "      <td>51</td>\n",
              "      <td>Personal_Travel</td>\n",
              "      <td>Eco_Plus</td>\n",
              "      <td>927</td>\n",
              "      <td>1</td>\n",
              "      <td>4</td>\n",
              "      <td>2</td>\n",
              "      <td>5</td>\n",
              "      <td>2</td>\n",
              "      <td>4</td>\n",
              "      <td>2</td>\n",
              "      <td>0</td>\n",
              "      <td>0</td>\n",
              "      <td>neutral_or_dissatisfied</td>\n",
              "      <td>20</td>\n",
              "    </tr>\n",
              "    <tr>\n",
              "      <th>507</th>\n",
              "      <td>358</td>\n",
              "      <td>Male</td>\n",
              "      <td>Loyal_Customer</td>\n",
              "      <td>54</td>\n",
              "      <td>Personal_Travel</td>\n",
              "      <td>Eco_Plus</td>\n",
              "      <td>789</td>\n",
              "      <td>1</td>\n",
              "      <td>4</td>\n",
              "      <td>1</td>\n",
              "      <td>1</td>\n",
              "      <td>1</td>\n",
              "      <td>5</td>\n",
              "      <td>1</td>\n",
              "      <td>0</td>\n",
              "      <td>0</td>\n",
              "      <td>neutral_or_dissatisfied</td>\n",
              "      <td>14</td>\n",
              "    </tr>\n",
              "    <tr>\n",
              "      <th>508</th>\n",
              "      <td>443</td>\n",
              "      <td>Male</td>\n",
              "      <td>Loyal_Customer</td>\n",
              "      <td>30</td>\n",
              "      <td>Personal_Travel</td>\n",
              "      <td>Eco_Plus</td>\n",
              "      <td>237</td>\n",
              "      <td>1</td>\n",
              "      <td>1</td>\n",
              "      <td>4</td>\n",
              "      <td>5</td>\n",
              "      <td>4</td>\n",
              "      <td>3</td>\n",
              "      <td>4</td>\n",
              "      <td>0</td>\n",
              "      <td>0</td>\n",
              "      <td>neutral_or_dissatisfied</td>\n",
              "      <td>22</td>\n",
              "    </tr>\n",
              "    <tr>\n",
              "      <th>509</th>\n",
              "      <td>475</td>\n",
              "      <td>Male</td>\n",
              "      <td>Loyal_Customer</td>\n",
              "      <td>12</td>\n",
              "      <td>Personal_Travel</td>\n",
              "      <td>Eco_Plus</td>\n",
              "      <td>1892</td>\n",
              "      <td>4</td>\n",
              "      <td>1</td>\n",
              "      <td>5</td>\n",
              "      <td>5</td>\n",
              "      <td>5</td>\n",
              "      <td>2</td>\n",
              "      <td>5</td>\n",
              "      <td>28</td>\n",
              "      <td>45</td>\n",
              "      <td>neutral_or_dissatisfied</td>\n",
              "      <td>27</td>\n",
              "    </tr>\n",
              "  </tbody>\n",
              "</table>\n",
              "</div>\n",
              "      <button class=\"colab-df-convert\" onclick=\"convertToInteractive('df-14b4a3c7-b1f0-4f1e-8921-9f9f757a879c')\"\n",
              "              title=\"Convert this dataframe to an interactive table.\"\n",
              "              style=\"display:none;\">\n",
              "        \n",
              "  <svg xmlns=\"http://www.w3.org/2000/svg\" height=\"24px\"viewBox=\"0 0 24 24\"\n",
              "       width=\"24px\">\n",
              "    <path d=\"M0 0h24v24H0V0z\" fill=\"none\"/>\n",
              "    <path d=\"M18.56 5.44l.94 2.06.94-2.06 2.06-.94-2.06-.94-.94-2.06-.94 2.06-2.06.94zm-11 1L8.5 8.5l.94-2.06 2.06-.94-2.06-.94L8.5 2.5l-.94 2.06-2.06.94zm10 10l.94 2.06.94-2.06 2.06-.94-2.06-.94-.94-2.06-.94 2.06-2.06.94z\"/><path d=\"M17.41 7.96l-1.37-1.37c-.4-.4-.92-.59-1.43-.59-.52 0-1.04.2-1.43.59L10.3 9.45l-7.72 7.72c-.78.78-.78 2.05 0 2.83L4 21.41c.39.39.9.59 1.41.59.51 0 1.02-.2 1.41-.59l7.78-7.78 2.81-2.81c.8-.78.8-2.07 0-2.86zM5.41 20L4 18.59l7.72-7.72 1.47 1.35L5.41 20z\"/>\n",
              "  </svg>\n",
              "      </button>\n",
              "      \n",
              "  <style>\n",
              "    .colab-df-container {\n",
              "      display:flex;\n",
              "      flex-wrap:wrap;\n",
              "      gap: 12px;\n",
              "    }\n",
              "\n",
              "    .colab-df-convert {\n",
              "      background-color: #E8F0FE;\n",
              "      border: none;\n",
              "      border-radius: 50%;\n",
              "      cursor: pointer;\n",
              "      display: none;\n",
              "      fill: #1967D2;\n",
              "      height: 32px;\n",
              "      padding: 0 0 0 0;\n",
              "      width: 32px;\n",
              "    }\n",
              "\n",
              "    .colab-df-convert:hover {\n",
              "      background-color: #E2EBFA;\n",
              "      box-shadow: 0px 1px 2px rgba(60, 64, 67, 0.3), 0px 1px 3px 1px rgba(60, 64, 67, 0.15);\n",
              "      fill: #174EA6;\n",
              "    }\n",
              "\n",
              "    [theme=dark] .colab-df-convert {\n",
              "      background-color: #3B4455;\n",
              "      fill: #D2E3FC;\n",
              "    }\n",
              "\n",
              "    [theme=dark] .colab-df-convert:hover {\n",
              "      background-color: #434B5C;\n",
              "      box-shadow: 0px 1px 3px 1px rgba(0, 0, 0, 0.15);\n",
              "      filter: drop-shadow(0px 1px 2px rgba(0, 0, 0, 0.3));\n",
              "      fill: #FFFFFF;\n",
              "    }\n",
              "  </style>\n",
              "\n",
              "      <script>\n",
              "        const buttonEl =\n",
              "          document.querySelector('#df-14b4a3c7-b1f0-4f1e-8921-9f9f757a879c button.colab-df-convert');\n",
              "        buttonEl.style.display =\n",
              "          google.colab.kernel.accessAllowed ? 'block' : 'none';\n",
              "\n",
              "        async function convertToInteractive(key) {\n",
              "          const element = document.querySelector('#df-14b4a3c7-b1f0-4f1e-8921-9f9f757a879c');\n",
              "          const dataTable =\n",
              "            await google.colab.kernel.invokeFunction('convertToInteractive',\n",
              "                                                     [key], {});\n",
              "          if (!dataTable) return;\n",
              "\n",
              "          const docLinkHtml = 'Like what you see? Visit the ' +\n",
              "            '<a target=\"_blank\" href=https://colab.research.google.com/notebooks/data_table.ipynb>data table notebook</a>'\n",
              "            + ' to learn more about interactive tables.';\n",
              "          element.innerHTML = '';\n",
              "          dataTable['output_type'] = 'display_data';\n",
              "          await google.colab.output.renderOutput(dataTable, element);\n",
              "          const docLink = document.createElement('div');\n",
              "          docLink.innerHTML = docLinkHtml;\n",
              "          element.appendChild(docLink);\n",
              "        }\n",
              "      </script>\n",
              "    </div>\n",
              "  </div>\n",
              "  "
            ]
          },
          "metadata": {},
          "execution_count": 20
        }
      ]
    },
    {
      "cell_type": "markdown",
      "source": [
        "**Creating Dummy dataset to add and then remove null values:**"
      ],
      "metadata": {
        "id": "1ueMRk_z5RUh"
      }
    },
    {
      "cell_type": "code",
      "source": [
        "dfDummy = pd.DataFrame({\n",
        "                        \"Sallary\":[1000, np.nan, np.nan],\n",
        "                        \"Serial No.\":[1, 2, 3], \n",
        "                        \"Price\":[1, 4, np.nan],\n",
        "                        \"Age\":[1, 10, np.nan]\n",
        "                      })"
      ],
      "metadata": {
        "id": "dja9iQBN4mHj"
      },
      "execution_count": 57,
      "outputs": []
    },
    {
      "cell_type": "markdown",
      "source": [
        "**Checking if dataset has null value or not:**"
      ],
      "metadata": {
        "id": "UcqkYA225I9d"
      }
    },
    {
      "cell_type": "code",
      "source": [
        "dfDummy.isnull().sum()"
      ],
      "metadata": {
        "colab": {
          "base_uri": "https://localhost:8080/"
        },
        "id": "H0TA5n6f5X-Q",
        "outputId": "a93bc240-cd82-4784-dc95-b03d05fa75a8"
      },
      "execution_count": 58,
      "outputs": [
        {
          "output_type": "execute_result",
          "data": {
            "text/plain": [
              "Sallary       2\n",
              "Serial No.    0\n",
              "Price         1\n",
              "Age           1\n",
              "dtype: int64"
            ]
          },
          "metadata": {},
          "execution_count": 58
        }
      ]
    },
    {
      "cell_type": "markdown",
      "source": [
        "**Filling nulll valeus with mean of their column:**"
      ],
      "metadata": {
        "id": "Ojy746lI54Fc"
      }
    },
    {
      "cell_type": "code",
      "source": [
        "dfDummy[\"Sallary\"].fillna(value = dfDummy[\"Sallary\"].mean(), inplace = True)\n",
        "dfDummy[\"Price\"].fillna(value = dfDummy[\"Price\"].mean(), inplace = True)\n",
        "dfDummy[\"Age\"].fillna(value = dfDummy[\"Age\"].mean(), inplace = True)\n",
        "dfDummy"
      ],
      "metadata": {
        "colab": {
          "base_uri": "https://localhost:8080/",
          "height": 143
        },
        "id": "5k11lWqz6CFD",
        "outputId": "f44f4aa0-f871-4ddc-f905-ba27a5052c1d"
      },
      "execution_count": 60,
      "outputs": [
        {
          "output_type": "execute_result",
          "data": {
            "text/plain": [
              "   Sallary  Serial No.  Price   Age\n",
              "0   1000.0           1    1.0   1.0\n",
              "1   1000.0           2    4.0  10.0\n",
              "2   1000.0           3    2.5   5.5"
            ],
            "text/html": [
              "\n",
              "  <div id=\"df-90389d76-6ed1-417d-8df8-b347162ddcc4\">\n",
              "    <div class=\"colab-df-container\">\n",
              "      <div>\n",
              "<style scoped>\n",
              "    .dataframe tbody tr th:only-of-type {\n",
              "        vertical-align: middle;\n",
              "    }\n",
              "\n",
              "    .dataframe tbody tr th {\n",
              "        vertical-align: top;\n",
              "    }\n",
              "\n",
              "    .dataframe thead th {\n",
              "        text-align: right;\n",
              "    }\n",
              "</style>\n",
              "<table border=\"1\" class=\"dataframe\">\n",
              "  <thead>\n",
              "    <tr style=\"text-align: right;\">\n",
              "      <th></th>\n",
              "      <th>Sallary</th>\n",
              "      <th>Serial No.</th>\n",
              "      <th>Price</th>\n",
              "      <th>Age</th>\n",
              "    </tr>\n",
              "  </thead>\n",
              "  <tbody>\n",
              "    <tr>\n",
              "      <th>0</th>\n",
              "      <td>1000.0</td>\n",
              "      <td>1</td>\n",
              "      <td>1.0</td>\n",
              "      <td>1.0</td>\n",
              "    </tr>\n",
              "    <tr>\n",
              "      <th>1</th>\n",
              "      <td>1000.0</td>\n",
              "      <td>2</td>\n",
              "      <td>4.0</td>\n",
              "      <td>10.0</td>\n",
              "    </tr>\n",
              "    <tr>\n",
              "      <th>2</th>\n",
              "      <td>1000.0</td>\n",
              "      <td>3</td>\n",
              "      <td>2.5</td>\n",
              "      <td>5.5</td>\n",
              "    </tr>\n",
              "  </tbody>\n",
              "</table>\n",
              "</div>\n",
              "      <button class=\"colab-df-convert\" onclick=\"convertToInteractive('df-90389d76-6ed1-417d-8df8-b347162ddcc4')\"\n",
              "              title=\"Convert this dataframe to an interactive table.\"\n",
              "              style=\"display:none;\">\n",
              "        \n",
              "  <svg xmlns=\"http://www.w3.org/2000/svg\" height=\"24px\"viewBox=\"0 0 24 24\"\n",
              "       width=\"24px\">\n",
              "    <path d=\"M0 0h24v24H0V0z\" fill=\"none\"/>\n",
              "    <path d=\"M18.56 5.44l.94 2.06.94-2.06 2.06-.94-2.06-.94-.94-2.06-.94 2.06-2.06.94zm-11 1L8.5 8.5l.94-2.06 2.06-.94-2.06-.94L8.5 2.5l-.94 2.06-2.06.94zm10 10l.94 2.06.94-2.06 2.06-.94-2.06-.94-.94-2.06-.94 2.06-2.06.94z\"/><path d=\"M17.41 7.96l-1.37-1.37c-.4-.4-.92-.59-1.43-.59-.52 0-1.04.2-1.43.59L10.3 9.45l-7.72 7.72c-.78.78-.78 2.05 0 2.83L4 21.41c.39.39.9.59 1.41.59.51 0 1.02-.2 1.41-.59l7.78-7.78 2.81-2.81c.8-.78.8-2.07 0-2.86zM5.41 20L4 18.59l7.72-7.72 1.47 1.35L5.41 20z\"/>\n",
              "  </svg>\n",
              "      </button>\n",
              "      \n",
              "  <style>\n",
              "    .colab-df-container {\n",
              "      display:flex;\n",
              "      flex-wrap:wrap;\n",
              "      gap: 12px;\n",
              "    }\n",
              "\n",
              "    .colab-df-convert {\n",
              "      background-color: #E8F0FE;\n",
              "      border: none;\n",
              "      border-radius: 50%;\n",
              "      cursor: pointer;\n",
              "      display: none;\n",
              "      fill: #1967D2;\n",
              "      height: 32px;\n",
              "      padding: 0 0 0 0;\n",
              "      width: 32px;\n",
              "    }\n",
              "\n",
              "    .colab-df-convert:hover {\n",
              "      background-color: #E2EBFA;\n",
              "      box-shadow: 0px 1px 2px rgba(60, 64, 67, 0.3), 0px 1px 3px 1px rgba(60, 64, 67, 0.15);\n",
              "      fill: #174EA6;\n",
              "    }\n",
              "\n",
              "    [theme=dark] .colab-df-convert {\n",
              "      background-color: #3B4455;\n",
              "      fill: #D2E3FC;\n",
              "    }\n",
              "\n",
              "    [theme=dark] .colab-df-convert:hover {\n",
              "      background-color: #434B5C;\n",
              "      box-shadow: 0px 1px 3px 1px rgba(0, 0, 0, 0.15);\n",
              "      filter: drop-shadow(0px 1px 2px rgba(0, 0, 0, 0.3));\n",
              "      fill: #FFFFFF;\n",
              "    }\n",
              "  </style>\n",
              "\n",
              "      <script>\n",
              "        const buttonEl =\n",
              "          document.querySelector('#df-90389d76-6ed1-417d-8df8-b347162ddcc4 button.colab-df-convert');\n",
              "        buttonEl.style.display =\n",
              "          google.colab.kernel.accessAllowed ? 'block' : 'none';\n",
              "\n",
              "        async function convertToInteractive(key) {\n",
              "          const element = document.querySelector('#df-90389d76-6ed1-417d-8df8-b347162ddcc4');\n",
              "          const dataTable =\n",
              "            await google.colab.kernel.invokeFunction('convertToInteractive',\n",
              "                                                     [key], {});\n",
              "          if (!dataTable) return;\n",
              "\n",
              "          const docLinkHtml = 'Like what you see? Visit the ' +\n",
              "            '<a target=\"_blank\" href=https://colab.research.google.com/notebooks/data_table.ipynb>data table notebook</a>'\n",
              "            + ' to learn more about interactive tables.';\n",
              "          element.innerHTML = '';\n",
              "          dataTable['output_type'] = 'display_data';\n",
              "          await google.colab.output.renderOutput(dataTable, element);\n",
              "          const docLink = document.createElement('div');\n",
              "          docLink.innerHTML = docLinkHtml;\n",
              "          element.appendChild(docLink);\n",
              "        }\n",
              "      </script>\n",
              "    </div>\n",
              "  </div>\n",
              "  "
            ]
          },
          "metadata": {},
          "execution_count": 60
        }
      ]
    },
    {
      "cell_type": "markdown",
      "source": [
        "**Rechecking if still null values are there or not:**"
      ],
      "metadata": {
        "id": "OFj6ZxDn7Ps-"
      }
    },
    {
      "cell_type": "code",
      "source": [
        "dfDummy.isnull().sum()"
      ],
      "metadata": {
        "colab": {
          "base_uri": "https://localhost:8080/"
        },
        "id": "8nNNS2707T0w",
        "outputId": "b1ff7672-49c4-4e12-c195-ba2b7b882a3e"
      },
      "execution_count": 61,
      "outputs": [
        {
          "output_type": "execute_result",
          "data": {
            "text/plain": [
              "Sallary       0\n",
              "Serial No.    0\n",
              "Price         0\n",
              "Age           0\n",
              "dtype: int64"
            ]
          },
          "metadata": {},
          "execution_count": 61
        }
      ]
    },
    {
      "cell_type": "markdown",
      "source": [
        "**If you want to drop null values then apply this step:**"
      ],
      "metadata": {
        "id": "P6yQ-6I77eQc"
      }
    },
    {
      "cell_type": "code",
      "source": [
        "dfDummy.dropna(axis=0)"
      ],
      "metadata": {
        "colab": {
          "base_uri": "https://localhost:8080/",
          "height": 143
        },
        "id": "TKo-XTjM7d6p",
        "outputId": "7cb55c12-4ea0-4c1d-cdb7-c4f30d9c71ff"
      },
      "execution_count": 62,
      "outputs": [
        {
          "output_type": "execute_result",
          "data": {
            "text/plain": [
              "   Sallary  Serial No.  Price   Age\n",
              "0   1000.0           1    1.0   1.0\n",
              "1   1000.0           2    4.0  10.0\n",
              "2   1000.0           3    2.5   5.5"
            ],
            "text/html": [
              "\n",
              "  <div id=\"df-49ec36a0-53d7-4d83-b180-9c9ce6b61126\">\n",
              "    <div class=\"colab-df-container\">\n",
              "      <div>\n",
              "<style scoped>\n",
              "    .dataframe tbody tr th:only-of-type {\n",
              "        vertical-align: middle;\n",
              "    }\n",
              "\n",
              "    .dataframe tbody tr th {\n",
              "        vertical-align: top;\n",
              "    }\n",
              "\n",
              "    .dataframe thead th {\n",
              "        text-align: right;\n",
              "    }\n",
              "</style>\n",
              "<table border=\"1\" class=\"dataframe\">\n",
              "  <thead>\n",
              "    <tr style=\"text-align: right;\">\n",
              "      <th></th>\n",
              "      <th>Sallary</th>\n",
              "      <th>Serial No.</th>\n",
              "      <th>Price</th>\n",
              "      <th>Age</th>\n",
              "    </tr>\n",
              "  </thead>\n",
              "  <tbody>\n",
              "    <tr>\n",
              "      <th>0</th>\n",
              "      <td>1000.0</td>\n",
              "      <td>1</td>\n",
              "      <td>1.0</td>\n",
              "      <td>1.0</td>\n",
              "    </tr>\n",
              "    <tr>\n",
              "      <th>1</th>\n",
              "      <td>1000.0</td>\n",
              "      <td>2</td>\n",
              "      <td>4.0</td>\n",
              "      <td>10.0</td>\n",
              "    </tr>\n",
              "    <tr>\n",
              "      <th>2</th>\n",
              "      <td>1000.0</td>\n",
              "      <td>3</td>\n",
              "      <td>2.5</td>\n",
              "      <td>5.5</td>\n",
              "    </tr>\n",
              "  </tbody>\n",
              "</table>\n",
              "</div>\n",
              "      <button class=\"colab-df-convert\" onclick=\"convertToInteractive('df-49ec36a0-53d7-4d83-b180-9c9ce6b61126')\"\n",
              "              title=\"Convert this dataframe to an interactive table.\"\n",
              "              style=\"display:none;\">\n",
              "        \n",
              "  <svg xmlns=\"http://www.w3.org/2000/svg\" height=\"24px\"viewBox=\"0 0 24 24\"\n",
              "       width=\"24px\">\n",
              "    <path d=\"M0 0h24v24H0V0z\" fill=\"none\"/>\n",
              "    <path d=\"M18.56 5.44l.94 2.06.94-2.06 2.06-.94-2.06-.94-.94-2.06-.94 2.06-2.06.94zm-11 1L8.5 8.5l.94-2.06 2.06-.94-2.06-.94L8.5 2.5l-.94 2.06-2.06.94zm10 10l.94 2.06.94-2.06 2.06-.94-2.06-.94-.94-2.06-.94 2.06-2.06.94z\"/><path d=\"M17.41 7.96l-1.37-1.37c-.4-.4-.92-.59-1.43-.59-.52 0-1.04.2-1.43.59L10.3 9.45l-7.72 7.72c-.78.78-.78 2.05 0 2.83L4 21.41c.39.39.9.59 1.41.59.51 0 1.02-.2 1.41-.59l7.78-7.78 2.81-2.81c.8-.78.8-2.07 0-2.86zM5.41 20L4 18.59l7.72-7.72 1.47 1.35L5.41 20z\"/>\n",
              "  </svg>\n",
              "      </button>\n",
              "      \n",
              "  <style>\n",
              "    .colab-df-container {\n",
              "      display:flex;\n",
              "      flex-wrap:wrap;\n",
              "      gap: 12px;\n",
              "    }\n",
              "\n",
              "    .colab-df-convert {\n",
              "      background-color: #E8F0FE;\n",
              "      border: none;\n",
              "      border-radius: 50%;\n",
              "      cursor: pointer;\n",
              "      display: none;\n",
              "      fill: #1967D2;\n",
              "      height: 32px;\n",
              "      padding: 0 0 0 0;\n",
              "      width: 32px;\n",
              "    }\n",
              "\n",
              "    .colab-df-convert:hover {\n",
              "      background-color: #E2EBFA;\n",
              "      box-shadow: 0px 1px 2px rgba(60, 64, 67, 0.3), 0px 1px 3px 1px rgba(60, 64, 67, 0.15);\n",
              "      fill: #174EA6;\n",
              "    }\n",
              "\n",
              "    [theme=dark] .colab-df-convert {\n",
              "      background-color: #3B4455;\n",
              "      fill: #D2E3FC;\n",
              "    }\n",
              "\n",
              "    [theme=dark] .colab-df-convert:hover {\n",
              "      background-color: #434B5C;\n",
              "      box-shadow: 0px 1px 3px 1px rgba(0, 0, 0, 0.15);\n",
              "      filter: drop-shadow(0px 1px 2px rgba(0, 0, 0, 0.3));\n",
              "      fill: #FFFFFF;\n",
              "    }\n",
              "  </style>\n",
              "\n",
              "      <script>\n",
              "        const buttonEl =\n",
              "          document.querySelector('#df-49ec36a0-53d7-4d83-b180-9c9ce6b61126 button.colab-df-convert');\n",
              "        buttonEl.style.display =\n",
              "          google.colab.kernel.accessAllowed ? 'block' : 'none';\n",
              "\n",
              "        async function convertToInteractive(key) {\n",
              "          const element = document.querySelector('#df-49ec36a0-53d7-4d83-b180-9c9ce6b61126');\n",
              "          const dataTable =\n",
              "            await google.colab.kernel.invokeFunction('convertToInteractive',\n",
              "                                                     [key], {});\n",
              "          if (!dataTable) return;\n",
              "\n",
              "          const docLinkHtml = 'Like what you see? Visit the ' +\n",
              "            '<a target=\"_blank\" href=https://colab.research.google.com/notebooks/data_table.ipynb>data table notebook</a>'\n",
              "            + ' to learn more about interactive tables.';\n",
              "          element.innerHTML = '';\n",
              "          dataTable['output_type'] = 'display_data';\n",
              "          await google.colab.output.renderOutput(dataTable, element);\n",
              "          const docLink = document.createElement('div');\n",
              "          docLink.innerHTML = docLinkHtml;\n",
              "          element.appendChild(docLink);\n",
              "        }\n",
              "      </script>\n",
              "    </div>\n",
              "  </div>\n",
              "  "
            ]
          },
          "metadata": {},
          "execution_count": 62
        }
      ]
    },
    {
      "cell_type": "markdown",
      "source": [
        "**Write a code that returns (a) the min and max age of the passengers**"
      ],
      "metadata": {
        "id": "D0ZY7r6BvjNN"
      }
    },
    {
      "cell_type": "code",
      "source": [
        "# Using min() and max() functions to get minimum and maximum values from age column\n",
        "print(\" Min Age of Passengers: \", df[\"Age\"].min())\n",
        "print(\" Max Age of Passengers: \", df[\"Age\"].max())"
      ],
      "metadata": {
        "colab": {
          "base_uri": "https://localhost:8080/"
        },
        "id": "FIXo5p1acMWL",
        "outputId": "e65f597b-12bf-44ae-ca50-daa5c1bb072a"
      },
      "execution_count": null,
      "outputs": [
        {
          "output_type": "stream",
          "name": "stdout",
          "text": [
            " Min Age of Passengers:  7\n",
            " Max Age of Passengers:  80\n"
          ]
        }
      ]
    },
    {
      "cell_type": "markdown",
      "source": [
        "**Write a code that returns (b) average age of the passengers**"
      ],
      "metadata": {
        "id": "hygGhJzBvnhk"
      }
    },
    {
      "cell_type": "code",
      "source": [
        "# Question 02(b)\n",
        "# Using mean() function to get average of age column\n",
        "print(\"Average Age of Passengers: \", df[\"Age\"].mean())"
      ],
      "metadata": {
        "colab": {
          "base_uri": "https://localhost:8080/"
        },
        "id": "q3HrQfCULvaZ",
        "outputId": "e4e9b951-5cd0-413c-b0fd-6de4d9fbac63"
      },
      "execution_count": null,
      "outputs": [
        {
          "output_type": "stream",
          "name": "stdout",
          "text": [
            "Average Age of Passengers:  40.2\n"
          ]
        }
      ]
    },
    {
      "cell_type": "markdown",
      "source": [
        "**Write a code that returns (c) numbers of female and male passengers accompanied by a piechart.**"
      ],
      "metadata": {
        "id": "zyc7iQYZvtC8"
      }
    },
    {
      "cell_type": "code",
      "source": [
        "# Qustion 2(c)\n",
        "# Using value_counts() function which will tell\n",
        "# total number of all respective values present in column\n",
        "totalCount = df[\"Gender\"].value_counts()\n",
        "maleCount = totalCount[1]\n",
        "femaleCount = totalCount[0]\n",
        "print(\"Female: \", femaleCount)\n",
        "print(\"Male: \", maleCount)\n",
        "# Female    261\n",
        "# Male      249\n",
        "\n",
        "# Plotting pie graph to demonstrate density of total amount of male and female\n",
        "y = np.array([maleCount, femaleCount])\n",
        "mycolors = [\"#93c4e6\", \"#ed98c8\"]\n",
        "mylabels = [\"Male\", \"Female\"]\n",
        "plt.pie(y, labels = mylabels, colors = mycolors)\n",
        "plt.show() "
      ],
      "metadata": {
        "colab": {
          "base_uri": "https://localhost:8080/",
          "height": 283
        },
        "id": "wQj5GkW2NrDR",
        "outputId": "67f2edb9-850c-432d-f2ab-02b6ce775d32"
      },
      "execution_count": null,
      "outputs": [
        {
          "output_type": "stream",
          "name": "stdout",
          "text": [
            "Female:  261\n",
            "Male:  249\n"
          ]
        },
        {
          "output_type": "display_data",
          "data": {
            "text/plain": [
              "<Figure size 432x288 with 1 Axes>"
            ],
            "image/png": "[encoded data removed]"
          },
          "metadata": {}
        }
      ]
    },
    {
      "cell_type": "markdown",
      "source": [
        "**Write a code that returns (d) travel class distribution accompanied by a bar piechart. Summarize the findings in a few sentences.**"
      ],
      "metadata": {
        "id": "Jsjj0mfjvzPB"
      }
    },
    {
      "cell_type": "code",
      "source": [
        "# Qustion 2(d)\n",
        "# Using value_counts() function which will tell\n",
        "# total number of all respective values present in column\n",
        "totalCount = df[\"Type_of_Travel\"].value_counts()\n",
        "businessCount = totalCount[0]\n",
        "personalCount = totalCount[1]\n",
        "print(\"Business Travel: \", businessCount)\n",
        "print(\"Personal Travel: \", personalCount)\n",
        "# Business_travel    351\n",
        "# Personal_Travel    159\n",
        "\n",
        "# Plotting pie graph to demonstrate density of total amount of Business and Personal\n",
        "y = np.array([businessCount, personalCount])\n",
        "mycolors = [\"#735137\", \"#8c7766\"]\n",
        "mylabels = [\"Business\", \"Personal\"]\n",
        "plt.pie(y, labels = mylabels, colors = mycolors)\n",
        "plt.show() "
      ],
      "metadata": {
        "colab": {
          "base_uri": "https://localhost:8080/",
          "height": 283
        },
        "id": "dArA3GhUOqD4",
        "outputId": "8f20015d-fa1b-4660-d0de-de1ea5d37175"
      },
      "execution_count": null,
      "outputs": [
        {
          "output_type": "stream",
          "name": "stdout",
          "text": [
            "Business Travel:  351\n",
            "Personal Travel:  159\n"
          ]
        },
        {
          "output_type": "display_data",
          "data": {
            "text/plain": [
              "<Figure size 432x288 with 1 Axes>"
            ],
            "image/png": "[encoded data removed]"
          },
          "metadata": {}
        }
      ]
    },
    {
      "cell_type": "markdown",
      "source": [
        "**Write a code to compare the average flight distances of male and female passengers. Briefly explain your finding.**"
      ],
      "metadata": {
        "id": "DEuzK3tPv5j_"
      }
    },
    {
      "cell_type": "code",
      "source": [
        "# By using groupby function grouping all same values of gender column,\n",
        "# Calculating mean of flight distance according to gender of male and female\n",
        "df.groupby('Gender', as_index=False)['Flight_Distance'].mean()"
      ],
      "metadata": {
        "colab": {
          "base_uri": "https://localhost:8080/",
          "height": 112
        },
        "id": "eYtSvY4MXsnP",
        "outputId": "102365d1-7d9c-4a67-d645-06bd21f5f014"
      },
      "execution_count": null,
      "outputs": [
        {
          "output_type": "execute_result",
          "data": {
            "text/plain": [
              "   Gender  Flight_Distance\n",
              "0  Female      1218.862069\n",
              "1    Male      1249.421687"
            ],
            "text/html": [
              "\n",
              "  <div id=\"df-5cd821fb-41d8-4638-831f-e8b9cf885e63\">\n",
              "    <div class=\"colab-df-container\">\n",
              "      <div>\n",
              "<style scoped>\n",
              "    .dataframe tbody tr th:only-of-type {\n",
              "        vertical-align: middle;\n",
              "    }\n",
              "\n",
              "    .dataframe tbody tr th {\n",
              "        vertical-align: top;\n",
              "    }\n",
              "\n",
              "    .dataframe thead th {\n",
              "        text-align: right;\n",
              "    }\n",
              "</style>\n",
              "<table border=\"1\" class=\"dataframe\">\n",
              "  <thead>\n",
              "    <tr style=\"text-align: right;\">\n",
              "      <th></th>\n",
              "      <th>Gender</th>\n",
              "      <th>Flight_Distance</th>\n",
              "    </tr>\n",
              "  </thead>\n",
              "  <tbody>\n",
              "    <tr>\n",
              "      <th>0</th>\n",
              "      <td>Female</td>\n",
              "      <td>1218.862069</td>\n",
              "    </tr>\n",
              "    <tr>\n",
              "      <th>1</th>\n",
              "      <td>Male</td>\n",
              "      <td>1249.421687</td>\n",
              "    </tr>\n",
              "  </tbody>\n",
              "</table>\n",
              "</div>\n",
              "      <button class=\"colab-df-convert\" onclick=\"convertToInteractive('df-5cd821fb-41d8-4638-831f-e8b9cf885e63')\"\n",
              "              title=\"Convert this dataframe to an interactive table.\"\n",
              "              style=\"display:none;\">\n",
              "        \n",
              "  <svg xmlns=\"http://www.w3.org/2000/svg\" height=\"24px\"viewBox=\"0 0 24 24\"\n",
              "       width=\"24px\">\n",
              "    <path d=\"M0 0h24v24H0V0z\" fill=\"none\"/>\n",
              "    <path d=\"M18.56 5.44l.94 2.06.94-2.06 2.06-.94-2.06-.94-.94-2.06-.94 2.06-2.06.94zm-11 1L8.5 8.5l.94-2.06 2.06-.94-2.06-.94L8.5 2.5l-.94 2.06-2.06.94zm10 10l.94 2.06.94-2.06 2.06-.94-2.06-.94-.94-2.06-.94 2.06-2.06.94z\"/><path d=\"M17.41 7.96l-1.37-1.37c-.4-.4-.92-.59-1.43-.59-.52 0-1.04.2-1.43.59L10.3 9.45l-7.72 7.72c-.78.78-.78 2.05 0 2.83L4 21.41c.39.39.9.59 1.41.59.51 0 1.02-.2 1.41-.59l7.78-7.78 2.81-2.81c.8-.78.8-2.07 0-2.86zM5.41 20L4 18.59l7.72-7.72 1.47 1.35L5.41 20z\"/>\n",
              "  </svg>\n",
              "      </button>\n",
              "      \n",
              "  <style>\n",
              "    .colab-df-container {\n",
              "      display:flex;\n",
              "      flex-wrap:wrap;\n",
              "      gap: 12px;\n",
              "    }\n",
              "\n",
              "    .colab-df-convert {\n",
              "      background-color: #E8F0FE;\n",
              "      border: none;\n",
              "      border-radius: 50%;\n",
              "      cursor: pointer;\n",
              "      display: none;\n",
              "      fill: #1967D2;\n",
              "      height: 32px;\n",
              "      padding: 0 0 0 0;\n",
              "      width: 32px;\n",
              "    }\n",
              "\n",
              "    .colab-df-convert:hover {\n",
              "      background-color: #E2EBFA;\n",
              "      box-shadow: 0px 1px 2px rgba(60, 64, 67, 0.3), 0px 1px 3px 1px rgba(60, 64, 67, 0.15);\n",
              "      fill: #174EA6;\n",
              "    }\n",
              "\n",
              "    [theme=dark] .colab-df-convert {\n",
              "      background-color: #3B4455;\n",
              "      fill: #D2E3FC;\n",
              "    }\n",
              "\n",
              "    [theme=dark] .colab-df-convert:hover {\n",
              "      background-color: #434B5C;\n",
              "      box-shadow: 0px 1px 3px 1px rgba(0, 0, 0, 0.15);\n",
              "      filter: drop-shadow(0px 1px 2px rgba(0, 0, 0, 0.3));\n",
              "      fill: #FFFFFF;\n",
              "    }\n",
              "  </style>\n",
              "\n",
              "      <script>\n",
              "        const buttonEl =\n",
              "          document.querySelector('#df-5cd821fb-41d8-4638-831f-e8b9cf885e63 button.colab-df-convert');\n",
              "        buttonEl.style.display =\n",
              "          google.colab.kernel.accessAllowed ? 'block' : 'none';\n",
              "\n",
              "        async function convertToInteractive(key) {\n",
              "          const element = document.querySelector('#df-5cd821fb-41d8-4638-831f-e8b9cf885e63');\n",
              "          const dataTable =\n",
              "            await google.colab.kernel.invokeFunction('convertToInteractive',\n",
              "                                                     [key], {});\n",
              "          if (!dataTable) return;\n",
              "\n",
              "          const docLinkHtml = 'Like what you see? Visit the ' +\n",
              "            '<a target=\"_blank\" href=https://colab.research.google.com/notebooks/data_table.ipynb>data table notebook</a>'\n",
              "            + ' to learn more about interactive tables.';\n",
              "          element.innerHTML = '';\n",
              "          dataTable['output_type'] = 'display_data';\n",
              "          await google.colab.output.renderOutput(dataTable, element);\n",
              "          const docLink = document.createElement('div');\n",
              "          docLink.innerHTML = docLinkHtml;\n",
              "          element.appendChild(docLink);\n",
              "        }\n",
              "      </script>\n",
              "    </div>\n",
              "  </div>\n",
              "  "
            ]
          },
          "metadata": {},
          "execution_count": 8
        }
      ]
    },
    {
      "cell_type": "markdown",
      "source": [
        "**Write a code to compare the average flight distance by type of travel. That is, how does the mean flight distance of passengers on business travel compare to the mean flight of passengers on personal travel?**"
      ],
      "metadata": {
        "id": "BValE4BVv_EK"
      }
    },
    {
      "cell_type": "code",
      "source": [
        "# Question 04\n",
        "# By using groupby function grouping all same values of Type of travel column,\n",
        "# Calculating mean of flight distance according to Type of travel of male and female\n",
        "df2 = df.groupby('Type_of_Travel', as_index=False)['Flight_Distance'].mean()\n",
        "print(df2)\n",
        "\n",
        "businessTraveler = df2[\"Flight_Distance\"][0]\n",
        "personalTraveler = df2[\"Flight_Distance\"][1]\n",
        "\n",
        "# Plotting pie graph to demonstrate density of total amount of Business Travel Distance and Personal Travel Distance\n",
        "y = np.array([businessTraveler, personalTraveler])\n",
        "mycolors = [\"#4a5e4f\", \"#88a888\"]\n",
        "mylabels = [\"Business Travel Distance\", \"Personal Travel Distance\"]\n",
        "plt.pie(y, labels = mylabels, colors = mycolors)\n",
        "plt.show() "
      ],
      "metadata": {
        "colab": {
          "base_uri": "https://localhost:8080/",
          "height": 300
        },
        "id": "XeSrOXBbYw2f",
        "outputId": "9b87764a-1435-48b3-8cdb-d74348b9bb51"
      },
      "execution_count": null,
      "outputs": [
        {
          "output_type": "stream",
          "name": "stdout",
          "text": [
            "    Type_of_Travel  Flight_Distance\n",
            "0  Business_travel      1455.666667\n",
            "1  Personal_Travel       743.962264\n"
          ]
        },
        {
          "output_type": "display_data",
          "data": {
            "text/plain": [
              "<Figure size 432x288 with 1 Axes>"
            ],
            "image/png": "[encoded data removed]"
          },
          "metadata": {}
        }
      ]
    },
    {
      "cell_type": "markdown",
      "source": [
        "**Write a code that adds up the scores on all of the satisfaction survey variables, except for the satisfaction variable, and saves them in a column named total_satisfaction.**"
      ],
      "metadata": {
        "id": "VbzUpNpWwF1O"
      }
    },
    {
      "cell_type": "code",
      "source": [
        "# Question 05:\n",
        "\"\"\"\n",
        "  In this code, Making list of columns and then by applying loop\n",
        "  and then adding the values to TotalSatisfaction Column\n",
        "\"\"\"\n",
        "surveyColumns = [\n",
        "    \"Inflight_wifi_service\", \"Departure/Arrival_time_convenient\",\n",
        "    \"Food_and_drink\", \"Seat_comfort\", \"Inflight_entertainment\", \n",
        "    \"Inflight_service\", \"Cleanliness\"\n",
        "]\n",
        "df[\"Total_Satisfacation\"] = 0\n",
        "for i in surveyColumns:\n",
        "  df[\"Total_Satisfacation\"] += df[i]\n",
        "df[\"Total_Satisfacation\"]"
      ],
      "metadata": {
        "colab": {
          "base_uri": "https://localhost:8080/"
        },
        "id": "MmFu03RSa_N3",
        "outputId": "6d38bcc5-ff5f-4d2d-8556-8c104dc215f2"
      },
      "execution_count": null,
      "outputs": [
        {
          "output_type": "execute_result",
          "data": {
            "text/plain": [
              "0      23\n",
              "1      27\n",
              "2      25\n",
              "3      19\n",
              "4      19\n",
              "       ..\n",
              "505    23\n",
              "506    20\n",
              "507    14\n",
              "508    22\n",
              "509    27\n",
              "Name: Total_Satisfacation, Length: 510, dtype: int64"
            ]
          },
          "metadata": {},
          "execution_count": 10
        }
      ]
    },
    {
      "cell_type": "markdown",
      "source": [
        "**Write a code that adds up the scores on all of the satisfaction survey variables, except for the satisfaction variable, and saves them in a column named total_satisfaction. Then, plot the relationship between (a) Age and total_satisfaction.**"
      ],
      "metadata": {
        "id": "nbLO3HhnwK7Z"
      }
    },
    {
      "cell_type": "code",
      "source": [
        "print('Task 05\\npart a\\n')\n",
        "# Using matplotlib to plot the scattered plot to compare the values of Age Column and\n",
        "# Total Satisfaction column. Using custom marker and colour\n",
        "plt.subplots(figsize=(25, 11))\n",
        "plt.scatter(df[\"Total_Satisfacation\"], df[\"Age\"], marker = \"x\", s = 25,  c = \"brown\")\n",
        "plt.ylabel(\"Age\")\n",
        "plt.xlabel(\"Total Satisfacation\")\n",
        "plt.title(\"Age Vs Total Satisfacation\")\n",
        "plt.show()"
      ],
      "metadata": {
        "colab": {
          "base_uri": "https://localhost:8080/",
          "height": 637
        },
        "id": "mZI1B7rICaXu",
        "outputId": "eabbc78c-f4f6-4c84-e142-2e26386b2e86"
      },
      "execution_count": null,
      "outputs": [
        {
          "output_type": "stream",
          "name": "stdout",
          "text": [
            "Task 05\n",
            "part a\n",
            "\n"
          ]
        },
        {
          "output_type": "display_data",
          "data": {
            "text/plain": [
              "<Figure size 1800x792 with 1 Axes>"
            ],
            "image/png": "[encoded data removed]"
          },
          "metadata": {
            "needs_background": "light"
          }
        }
      ]
    },
    {
      "cell_type": "markdown",
      "source": [
        "**Write a code that adds up the scores on all of the satisfaction survey variables, except for the satisfaction variable, and saves them in a column named total_satisfaction. Then, plot the relationship between (b) flight distance and total satisfaction. Explain your findings in a few sentences.**"
      ],
      "metadata": {
        "id": "ziOTjt1nwO_A"
      }
    },
    {
      "cell_type": "code",
      "source": [
        "print('Task 05\\npart b\\n')\n",
        "\n",
        "# Using matplotlib to plot the scattered plot to compare the values of Flight_Distance Column and\n",
        "# Total Satisfaction column. Using custom marker and colour\n",
        "plt.subplots(figsize=(25, 11))\n",
        "plt.scatter(df[\"Total_Satisfacation\"], df[\"Flight_Distance\"], marker = \"x\", s = 25,  c = \"brown\")\n",
        "plt.ylabel(\"Age\")\n",
        "plt.xlabel(\"Total Satisfacation\")\n",
        "plt.title(\"Age Vs Total Satisfacation\")\n",
        "plt.show()"
      ],
      "metadata": {
        "colab": {
          "base_uri": "https://localhost:8080/",
          "height": 633
        },
        "id": "WcqQj6DeCVW3",
        "outputId": "4da0a58b-4cb1-400b-e95a-29314f0cd051"
      },
      "execution_count": null,
      "outputs": [
        {
          "output_type": "stream",
          "name": "stdout",
          "text": [
            "Task 05\n",
            "part b\n",
            "\n"
          ]
        },
        {
          "output_type": "display_data",
          "data": {
            "text/plain": [
              "<Figure size 1800x792 with 1 Axes>"
            ],
            "image/png": "[encoded data removed]"
          },
          "metadata": {
            "needs_background": "light"
          }
        }
      ]
    },
    {
      "cell_type": "markdown",
      "source": [
        "**Print All Flight Distances of Passengers travelled more than 1000**"
      ],
      "metadata": {
        "id": "QwJXHVRUwTud"
      }
    },
    {
      "cell_type": "code",
      "source": [
        "df2 = pd.DataFrame(df, columns = [\"Flight_Distance\"])\n",
        "print(\"Before: \", df2)\n",
        "df2 = df2[df2[\"Flight_Distance\"] > 1000]\n",
        "print(\"\\n\\n\\nAfter: \", df2)"
      ],
      "metadata": {
        "colab": {
          "base_uri": "https://localhost:8080/"
        },
        "id": "5LGvhpplu1mT",
        "outputId": "19d94198-b189-4699-8c8e-218dd8efb887"
      },
      "execution_count": null,
      "outputs": [
        {
          "output_type": "stream",
          "name": "stdout",
          "text": [
            "Before:       Flight_Distance\n",
            "0                802\n",
            "1                373\n",
            "2               2419\n",
            "3               2342\n",
            "4               1416\n",
            "..               ...\n",
            "505              361\n",
            "506              927\n",
            "507              789\n",
            "508              237\n",
            "509             1892\n",
            "\n",
            "[510 rows x 1 columns]\n",
            "\n",
            "\n",
            "\n",
            "After:       Flight_Distance\n",
            "2               2419\n",
            "3               2342\n",
            "4               1416\n",
            "7               1011\n",
            "21              1562\n",
            "..               ...\n",
            "489             1464\n",
            "499             2475\n",
            "500             1075\n",
            "503             1838\n",
            "509             1892\n",
            "\n",
            "[225 rows x 1 columns]\n"
          ]
        }
      ]
    },
    {
      "cell_type": "markdown",
      "source": [
        "**Check Customer_type of Customer of Age above 50 and less than 55**"
      ],
      "metadata": {
        "id": "YcU70AqpwasU"
      }
    },
    {
      "cell_type": "code",
      "source": [
        "# By using for loop on total number of rows which is 510\n",
        "# I got access to all values of column Age and Customer_Type\n",
        "# and then by simple comparing if Age greater than 50 and less than 55 then\n",
        "# printing both columns\n",
        "for i in range(510):\n",
        "  if df['Age'][i] > 50 and df['Age'][i] < 55:\n",
        "    print(df['Customer_Type'][i], df['Age'][i])"
      ],
      "metadata": {
        "colab": {
          "base_uri": "https://localhost:8080/"
        },
        "id": "cBiUymf9uerf",
        "outputId": "8422c60b-6e5e-4e4e-ff09-f29782a7a94c"
      },
      "execution_count": null,
      "outputs": [
        {
          "output_type": "stream",
          "name": "stdout",
          "text": [
            "Loyal_Customer 52\n",
            "Loyal_Customer 53\n",
            "Loyal_Customer 54\n",
            "Loyal_Customer 51\n",
            "Loyal_Customer 53\n",
            "Loyal_Customer 53\n",
            "Loyal_Customer 53\n",
            "Loyal_Customer 53\n",
            "Loyal_Customer 53\n",
            "Loyal_Customer 51\n",
            "Loyal_Customer 54\n",
            "Loyal_Customer 51\n",
            "Loyal_Customer 54\n",
            "Loyal_Customer 53\n",
            "Loyal_Customer 54\n",
            "Loyal_Customer 53\n",
            "Loyal_Customer 51\n",
            "Loyal_Customer 52\n",
            "Loyal_Customer 52\n",
            "Loyal_Customer 53\n",
            "Loyal_Customer 54\n",
            "Loyal_Customer 52\n",
            "Loyal_Customer 53\n",
            "Loyal_Customer 53\n",
            "Loyal_Customer 53\n",
            "Loyal_Customer 54\n",
            "Loyal_Customer 52\n",
            "Loyal_Customer 51\n",
            "Loyal_Customer 53\n",
            "Loyal_Customer 53\n",
            "Loyal_Customer 54\n",
            "Loyal_Customer 54\n",
            "Loyal_Customer 53\n",
            "Loyal_Customer 52\n",
            "Loyal_Customer 53\n",
            "Loyal_Customer 53\n",
            "Loyal_Customer 52\n",
            "Loyal_Customer 53\n",
            "Loyal_Customer 53\n",
            "Loyal_Customer 53\n",
            "Loyal_Customer 52\n",
            "Loyal_Customer 52\n",
            "Loyal_Customer 51\n",
            "Loyal_Customer 54\n"
          ]
        }
      ]
    },
    {
      "cell_type": "markdown",
      "source": [
        "**Find the Minimum Distance travelled by disloyal customer**"
      ],
      "metadata": {
        "id": "hIALLsvoweQj"
      }
    },
    {
      "cell_type": "code",
      "source": [
        "# By using for loop on total number of rows which is 510\n",
        "# I got access to all values of column  Customer_Type\n",
        "# and then by simple comparing Customer type is disloyal then\n",
        "# Store the value of flight distance in temporary list\n",
        "# After that using min() found min val.\n",
        "temp = []\n",
        "for i in range(510):\n",
        "  if df['Customer_Type'][i] == 'disloyal_Customer':\n",
        "    temp.append(df['Flight_Distance'][i])\n",
        "print('Minimum Distance travelled by disloyal customer =', min(temp))"
      ],
      "metadata": {
        "colab": {
          "base_uri": "https://localhost:8080/"
        },
        "id": "ksEq9UrzuguA",
        "outputId": "440cfe50-349d-46b3-82d7-e9fb993a1710"
      },
      "execution_count": null,
      "outputs": [
        {
          "output_type": "stream",
          "name": "stdout",
          "text": [
            "Minimum Distance travelled by disloyal customer = 84\n"
          ]
        }
      ]
    },
    {
      "cell_type": "markdown",
      "source": [
        "**Find the gender of Passanger with least travelling**"
      ],
      "metadata": {
        "id": "BBjR6Ta9wk51"
      }
    },
    {
      "cell_type": "code",
      "source": [
        "minDistance = df[\"Flight_Distance\"].min()\n",
        "print(df.loc[df['Flight_Distance'] == minDistance, 'Gender'])"
      ],
      "metadata": {
        "colab": {
          "base_uri": "https://localhost:8080/"
        },
        "id": "UbEIK3LM6zS6",
        "outputId": "6a633fcc-57ab-486c-ad34-a4be7307f915"
      },
      "execution_count": null,
      "outputs": [
        {
          "output_type": "stream",
          "name": "stdout",
          "text": [
            "340    Male\n",
            "Name: Gender, dtype: object\n"
          ]
        }
      ]
    },
    {
      "cell_type": "markdown",
      "source": [
        "Write a function that will ask users to enter their name, age, the airlines they flew recently, and how satisfied they were with the airlines on a 1-10 scale until you enter quit. Save the entries in a dictionary.\n",
        "Your function should return the following:\n",
        "1. The dictionary that includes all entries.\n",
        "2. A list named satisfied_passenger, which includes the passengers who entered a satisfaction score of 7 or higher.\n",
        "3. A list named unsatisfied_passenger, which includes the passengers who entered a satisfaction score of 3 or lower.\n",
        "4. A list named neutral_passenger, which includes the passengers who entered a satisfaction score of 4, 5, or 6. "
      ],
      "metadata": {
        "id": "1eU1Q2EYwraq"
      }
    },
    {
      "cell_type": "code",
      "source": [
        "def getInput():\n",
        "  # Creating required variable \n",
        "  data = {\n",
        "          \"Satisfacation\": list(),\n",
        "          \"Airline\": list(), \n",
        "          \"Name\": list(), \n",
        "          \"Age\": list()\n",
        "          }\n",
        "  unsatisfied_passanger = list()\n",
        "  satisfied_passanger = list()\n",
        "  neutral_passanger = list()\n",
        "\n",
        "  # Loop will iterate until the user enters quit\n",
        "  while True:\n",
        "    name = str(input(\"\\nEnter your name: \"))\n",
        "    age = 0\n",
        "\n",
        "    # Applied the check if user enters value less than 1 then will ask again\n",
        "    while True:\n",
        "      age = int(input(\"Enter your age: \"))\n",
        "      if age >= 1:\n",
        "        break\n",
        "      print(\"Wrong input. Please try again\")    \n",
        "\n",
        "    airline = str(input(\"Enter the airline you flew recently: \"))\n",
        "    satisfacation = -1\n",
        "\n",
        "    # Applied the check if user enters value other than in between 1 to 10 then will ask again\n",
        "    while True:\n",
        "      satisfacation = int(input(\"Enter your level of Satisfacation (From 1 to 10): \"))\n",
        "      if satisfacation >= 1 or satisfacation <= 10:\n",
        "        break\n",
        "      print(\"Wrong input. Please try again\")\n",
        "\n",
        "    # By using simple if else appending into the list, \n",
        "    # Name of passangers\n",
        "    if satisfacation <= 3:\n",
        "      unsatisfied_passanger.append(name)\n",
        "    elif satisfacation >= 7:\n",
        "      satisfied_passanger.append(name)\n",
        "    elif satisfacation >= 4 and satisfacation <= 6:\n",
        "      neutral_passanger.append(name)\n",
        "\n",
        "    # Appending input data to the lists corresponding to keys\n",
        "    data[\"Name\"].append(name)\n",
        "    data[\"Age\"].append(age)\n",
        "    data[\"Airline\"].append(airline)\n",
        "    data[\"Satisfacation\"].append(satisfacation)\n",
        "\n",
        "    # Applied the check if user enters value other than in between quit and continue then will ask again\n",
        "    while True:\n",
        "      check = str(input(\"To Exit enter (quit) else enter (continue): \"))\n",
        "      if check == \"quit\" or  check == \"continue\":\n",
        "        break\n",
        "      print(\"Wrong input. Please try again\")\n",
        "    if check == \"quit\":\n",
        "      break\n",
        "\n",
        "  return data, satisfied_passanger, unsatisfied_passanger, neutral_passanger\n",
        "\n",
        "data, satisfied_passanger, unsatisfied_passanger, neutral_passanger = getInput()\n",
        "print(\"\\n\\n\\nSatisfied Passangers: \", satisfied_passanger)\n",
        "print(\"Unsatisfied Passangers: \", unsatisfied_passanger)\n",
        "print(\"Neutral Passangers: \", neutral_passanger)\n",
        "print(\"Data: \", data)\n"
      ],
      "metadata": {
        "colab": {
          "base_uri": "https://localhost:8080/"
        },
        "id": "uI6lDJY0_kl9",
        "outputId": "d19ddc50-6e2e-4644-995e-74d39c9f1938"
      },
      "execution_count": null,
      "outputs": [
        {
          "output_type": "stream",
          "name": "stdout",
          "text": [
            "\n",
            "Enter your name: Raza Rizvi\n",
            "Enter your age: -1\n",
            "Wrong input. Please try again\n",
            "Enter your age: 19\n",
            "Enter the airline you flew recently: Emirates\n",
            "Enter your level of Satisfacation (From 1 to 10): -1\n",
            "To Exit enter (quit) else enter (continue): 11\n",
            "Wrong input. Please try again\n",
            "To Exit enter (quit) else enter (continue): 9\n",
            "Wrong input. Please try again\n",
            "To Exit enter (quit) else enter (continue): continue\n",
            "\n",
            "Enter your name: Haider\n",
            "Enter your age: 22\n",
            "Enter the airline you flew recently: PIA\n",
            "Enter your level of Satisfacation (From 1 to 10): 5\n",
            "To Exit enter (quit) else enter (continue): continuee\n",
            "Wrong input. Please try again\n",
            "To Exit enter (quit) else enter (continue): continue\n",
            "\n",
            "Enter your name: Imran Khan\n",
            "Enter your age: 80\n",
            "Enter the airline you flew recently: Qatar Airlines\n",
            "Enter your level of Satisfacation (From 1 to 10): 2\n",
            "To Exit enter (quit) else enter (continue): quit\n",
            "\n",
            "\n",
            "\n",
            "Satisfied Passangers:  []\n",
            "Unsatisfied Passangers:  ['Raza Rizvi', 'Imran Khan']\n",
            "Neutral Passangers:  ['Haider']\n",
            "Data:  {'Satisfacation': [-1, 5, 2], 'Airline': ['Emirates', 'PIA', 'Qatar Airlines'], 'Name': ['Raza Rizvi', 'Haider', 'Imran Khan'], 'Age': [19, 22, 80]}\n"
          ]
        }
      ]
    }
  ]
}